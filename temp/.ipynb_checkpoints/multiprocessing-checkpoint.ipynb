{
 "cells": [
  {
   "cell_type": "code",
   "execution_count": 6,
   "metadata": {},
   "outputs": [],
   "source": [
    "import parmap, tqdm\n",
    "from multiprocessing import Manager, cpu_count"
   ]
  },
  {
   "cell_type": "code",
   "execution_count": 7,
   "metadata": {},
   "outputs": [
    {
     "name": "stderr",
     "output_type": "stream",
     "text": [
      "/opt/conda/lib/python3.7/site-packages/parmap/parmap.py:131: UserWarning: '<' not supported between instances of 'method' and 'int'\n",
      "  warnings.warn(str(exc))\n",
      "100%|██████████| 10/10 [00:00<00:00, 1039.15it/s]\n"
     ]
    },
    {
     "data": {
      "text/plain": [
       "[None, None, None, None, None, None, None, None, None, None]"
      ]
     },
     "execution_count": 7,
     "metadata": {},
     "output_type": "execute_result"
    }
   ],
   "source": [
    "def a(x, d): \n",
    "    d[x] = 1 \n",
    "    \n",
    "num_cores = cpu_count # 사용할 cpu 코어 수. multiprocessing.cpu_count() 로 확인 가능 \n",
    "manager = Manager()\n",
    "d = manager.dict()\n",
    "\n",
    "input_list = range(0, 10) \n",
    "parmap.map(a, input_list, d, pm_pbar=True, pm_processes=num_cores)"
   ]
  }
 ],
 "metadata": {
  "kernelspec": {
   "display_name": "Python 3",
   "language": "python",
   "name": "python3"
  },
  "language_info": {
   "codemirror_mode": {
    "name": "ipython",
    "version": 3
   },
   "file_extension": ".py",
   "mimetype": "text/x-python",
   "name": "python",
   "nbconvert_exporter": "python",
   "pygments_lexer": "ipython3",
   "version": "3.7.6"
  }
 },
 "nbformat": 4,
 "nbformat_minor": 4
}
