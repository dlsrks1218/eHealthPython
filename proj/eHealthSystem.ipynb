{
 "cells": [
  {
   "cell_type": "markdown",
   "metadata": {},
   "source": [
    "# File Preprocessing"
   ]
  },
  {
   "cell_type": "code",
   "execution_count": 3,
   "metadata": {},
   "outputs": [
    {
     "name": "stdout",
     "output_type": "stream",
     "text": [
      "Import Complete\n"
     ]
    }
   ],
   "source": [
    "# MiBand에서 추출한 데이터를 Excel을 통해 모두 csv, UTF-8로 저장할 것\n",
    "import os\n",
    "import pandas as pd\n",
    "import numpy as np\n",
    "import matplotlib.pyplot as plt\n",
    "import chardet #check file encoding\n",
    "\n",
    "# Laplace Mechanism\n",
    "from scipy.stats import laplace\n",
    "from scipy.stats import gamma\n",
    "from sympy import Symbol, exp, sqrt, pi, Integral\n",
    "import math\n",
    "\n",
    "# Paillier Homomorphic Encryption\n",
    "import phe\n",
    "from phe import paillier\n",
    "\n",
    "# MongoDB\n",
    "import pymongo\n",
    "from pymongo import MongoClient\n",
    "\n",
    "# Log 남기기\n",
    "from datetime import datetime\n",
    "import time\n",
    "\n",
    "print('Import Complete')"
   ]
  },
  {
   "cell_type": "code",
   "execution_count": 138,
   "metadata": {
    "scrolled": true
   },
   "outputs": [
    {
     "name": "stdout",
     "output_type": "stream",
     "text": [
      "Function Import Complete\n"
     ]
    }
   ],
   "source": [
    "time_range = [10,11,12,13,14,15,16,17,18,19,20]\n",
    "data_dir = '/home/hp/jupyter/ljh/eHealthPython/data/'\n",
    "slot_size = len(time_range)*6\n",
    "\n",
    "# 디렉토리 내의 csv 파일(걸음수 데이터)을 모두 가져와 리스트에 담는다\n",
    "def get_file_list(dirname):\n",
    "    f_list = []\n",
    "    for (path, dir, files) in os.walk(dirname):\n",
    "        for filename in files:\n",
    "            ext = os.path.splitext(filename)[-1]\n",
    "            if ext == '.csv' or ext =='.xls':\n",
    "                f_list.append(os.path.join(path, filename))\n",
    "    return f_list\n",
    "file_list = get_file_list(data_dir)\n",
    "\n",
    "\n",
    "# 파일의 인코딩 확인\n",
    "def find_encoding(file):\n",
    "    r_file = open(file, 'rb').read()\n",
    "    result = chardet.detect(r_file)\n",
    "    charenc = result['encoding']\n",
    "    return charenc\n",
    "\n",
    "\n",
    "# 라플라스 메커니즘으로 노이즈 추가\n",
    "def lap_mechanism(original_data=[], loc=0, scale=0):\n",
    "    def laprnd(loc,scale):\n",
    "        s = laplace.rvs(loc, scale, None)\n",
    "        return s\n",
    "    \n",
    "    N = 79\n",
    "    sensitivity, epsilon = 7000, 1.0\n",
    "    slot_size = len(original_data)\n",
    "    noisy_data = list(map(lambda i: i + laprnd(0, (sensitivity/N)/(epsilon/slot_size)), original_data))\n",
    "    return list(np.around(np.array(noisy_data)))\n",
    "\n",
    "\n",
    "# 라플라스 메커니즘의 infinite divisibility(무한 분할성)을 활용한 감마 분포의 실수 차를 노이즈로 추가\n",
    "# test = 1 : 기본 감마 노이즈 생성\n",
    "# test = 2 : 그룹별 사용자 나눠서 평균 도출 실험\n",
    "def lap_mechanism_gamma(original_data=[], loc=0, scale=0, people_num=0, epsil=0, test=0):\n",
    "    def gammarnd(shpae, scale):\n",
    "        def two_gammarnd_diff1():\n",
    "            r = gamma.rvs(eshape, eloc, escale, size=2)\n",
    "\n",
    "        rnd_diff_list=[]\n",
    "\n",
    "        for i in range(len(original_data)):\n",
    "            r = gamma.rvs(shape, 0, scale, 2)\n",
    "            rnd_diff_list.append(r[0]-r[1])\n",
    "        return rnd_diff_list\n",
    "\n",
    "#     slot_size = np.count_nonzero(~np.isnan(original_data))    #number of salient point\n",
    "    \n",
    "    N = people_num\n",
    "    slot_size = 66    #number of time period\n",
    "    sensitivity, epsilon = 7000, epsil\n",
    "    if test is 1:\n",
    "        shape,scale = 1/N, (sensitivity/N)/(epsilon/slot_size)\n",
    "    elif test is 2:\n",
    "        group = 6\n",
    "        shape,scale = 1/N, (sensitivity/(N/group))/(epsilon/(slot_size/group))\n",
    "    \n",
    "    gamma_noise_list = gammarnd(shape, scale)\n",
    "    noisy_data = np.array(original_data) + np.array(gamma_noise_list)\n",
    "    return noisy_data\n",
    "\n",
    "\n",
    "# Paillier - Homomorphic Encryption Scheme\n",
    "# encrypt with public_key & decrypt with private_key\n",
    "class Paillier:\n",
    "    def __init__(self):\n",
    "        self.pub_key = 0\n",
    "        self.priv_key = 0\n",
    "    \n",
    "    def setKey(self, pub_key, priv_key):\n",
    "        self.pub_key, self.priv_key = paillier.generate_paillier_keypair(n_length=2048)\n",
    "        \n",
    "    def enc(self, data_lst=[]):\n",
    "        encrypted_data_lst = []\n",
    "        for data in data_lst:\n",
    "            encrypted_data_lst.append(self.pub_key.encrypt(data))\n",
    "        return encrypted_data_lst\n",
    "    \n",
    "    def func_chk(self, data_lst=[]):\n",
    "        print('original data sum :',np.around(sum(data_lst)), 'encrypted data sum :', np.around(self.priv_key.decrypt(sum(self.enc(data_lst)))))\n",
    "        print('original data average :', np.around(sum(data_lst)/len(data_lst)), 'encrypted data average :', np.around(self.priv_key.decrypt(sum(self.enc(data_lst))/len(self.enc(data_lst)))))\n",
    "\n",
    "\n",
    "def histogram_generate(df):\n",
    "    all_day_histogram_original_dict = dict()\n",
    "    all_day_histogram_noisy_dict = dict()\n",
    "    hours=[10,11,12,13,14,15,16,17,18,19,20]\n",
    "\n",
    "    for date in dates:\n",
    "        hour_data = [0, 0, 0, 0, 0, 0, 0, 0, 0, 0, 0]\n",
    "        for row in df.itertuples(index=False, name='Pandas'):\n",
    "            if getattr(row, 'Date')==date:\n",
    "                hour_data[getattr(row, 'Hour')-10] += getattr(row, 'Steps')\n",
    "    #     print(np.around(np.array(hour_data)/6))\n",
    "        all_day_histogram_original_dict[date] = list(np.around(np.array(hour_data)/6))\n",
    "\n",
    "    for date in dates:\n",
    "        original_data = all_day_histogram_original_dict[date]\n",
    "#         noisy_data = lap_mechanism(all_day_histogram_original_dict[date])\n",
    "        noisy_data = lap_mechanism_gamma(all_day_histogram_original_dict[date], 0, 0, 443, 0.5, 1)        \n",
    "        all_day_histogram_noisy_dict[date] = noisy_data\n",
    "#         print(date)\n",
    "#         print(original_data)\n",
    "#         print(noisy_data)\n",
    "    graph_compare_with_noisy_data(all_day_histogram_original_dict[dates[0]], lap_mechanism(all_day_histogram_original_dict[dates[0]]), 0)\n",
    "    \n",
    "#     return all_day_histogram_original_dict, all_day_histogram_noisy_dict\n",
    "\n",
    "\n",
    "def sp_generate(arr):\n",
    "    diff = np.diff(arr)\n",
    "    diff_list = [1 if i>0 else(-1 if i<0  else 0) for i in diff]\n",
    "    \n",
    "    stack = []\n",
    "    idx_list = []\n",
    "    res_list = []\n",
    "\n",
    "    for i in range(len(diff_list)):\n",
    "        if i==0:\n",
    "            stack.append(diff_list[i])\n",
    "            idx_list.append(i)\n",
    "        if diff_list[i] not in stack:\n",
    "            stack.pop()\n",
    "            stack.append(diff_list[i])\n",
    "            idx_list.append(i)\n",
    "        if i == len(diff_list)-1:\n",
    "            idx_list.append(i+1)\n",
    "\n",
    "    idx_list = np.array(idx_list)\n",
    "    for i in idx_list:\n",
    "        res_list.append(arr[i])\n",
    "    arr_copy = arr.copy()\n",
    "\n",
    "    for i in range(len(arr_copy)):\n",
    "        if i not in idx_list:\n",
    "            arr_copy[i] = np.nan\n",
    "\n",
    "#     print('salient point 갯수 :', len(idx_list))\n",
    "#     print('원본 데이터 갯수 :', len(arr))\n",
    "#     print('salient point ->', arr_copy)\n",
    "    return arr_copy\n",
    "\n",
    "\n",
    "# 원본과 노이즈 추가된 데이터의 그래프 비교\n",
    "def graph_compare_with_noisy_data(original_data, noisy_data, flag):\n",
    "    plt.rcParams[\"figure.figsize\"] = (10,4)\n",
    "    plt.rcParams['lines.linewidth'] = 2\n",
    "#     plt.rcParams['lines.color'] = 'r'\n",
    "    plt.rcParams['axes.grid'] = True \n",
    "    if flag==0:\n",
    "        # 막대그래프\n",
    "        time_range=[10,11,12,13,14,15,16,17,18,19,20]\n",
    "        w = 0.2\n",
    "        p1 = plt.bar([i-w for i in time_range], original_data, width=0.4)\n",
    "        p2 = plt.bar([i+w for i in time_range], noisy_data, width=0.4)\n",
    "#         p1 = plt.bar(time_range, original_data)\n",
    "#         p2 = plt.bar(time_range, noisy_data)\n",
    "\n",
    "#         # 꺾은선그래프\n",
    "#         plt.plot(time_range, original_data, time_range, noisy_data, 'r-')\n",
    "    elif flag==1:\n",
    "        time_range= list(np.arange(66))\n",
    "        plt.scatter(np.arange(len(noisy_data)), noisy_data)\n",
    "        plt.plot(time_range, original_data)\n",
    "    plt.xticks(time_range, rotation=70)\n",
    "    plt.ylim(-500,max(noisy_data)+500)\n",
    "    \n",
    "    plt.show()\n",
    "    \n",
    "    \n",
    "def get_abs_diff(ori, noi):\n",
    "    o = np.array(ori)\n",
    "    n = np.array(noi)\n",
    "    diff = abs(o-n)\n",
    "    \n",
    "    return diff\n",
    "    \n",
    "    \n",
    "def graph_compare_with_privacy_conditions(original_data, people_num, test):\n",
    "    plt.rcParams[\"figure.figsize\"] = (10,4)\n",
    "    plt.rcParams['lines.linewidth'] = 2\n",
    "    plt.rcParams['axes.grid'] = True\n",
    "    time_range= list(np.arange(66))\n",
    "    \n",
    "    e1 = lap_mechanism_gamma(original_data, 0, 0, people_num, 0.1, test)\n",
    "    e2 = lap_mechanism_gamma(original_data, 0, 0, people_num, 0.5, test)\n",
    "    e3 = lap_mechanism_gamma(original_data, 0, 0, people_num, 1.0, test)\n",
    "    \n",
    "    plt.plot(time_range, original_data, 'y-',\n",
    "            time_range, e1, 'r-',\n",
    "            time_range, e2, 'g-',\n",
    "            time_range, e3, 'b-')\n",
    "\n",
    "    MAE1 = sum(get_abs_diff(original_data, e1)) /slot_size\n",
    "    MAE2 = sum(get_abs_diff(original_data, e2)) /slot_size\n",
    "    MAE3 = sum(get_abs_diff(original_data, e3)) /slot_size\n",
    "    \n",
    "#     MRE 도출 결과 소수점 아래로 많이 작은 수치가 나와 사용하지 않기로 함\n",
    "#     MRE1 = (sum(get_abs_diff(original_data, e1))/sum(original_data)) / slot_size\n",
    "#     MRE2 = (sum(get_abs_diff(original_data, e2))/sum(original_data)) / slot_size\n",
    "#     MRE3 = (sum(get_abs_diff(original_data, e3))/sum(original_data)) / slot_size\n",
    "    \n",
    "    print('epsilon 0.1 :', MAE1)\n",
    "    print('epsilon 0.5 :', MAE2)\n",
    "    print('epsilon 1.0 :', MAE3)\n",
    "    \n",
    "    plt.xticks(time_range, rotation=70)\n",
    "    plt.ylim(-500, 8000)\n",
    "    plt.show()\n",
    "    \n",
    "    return MAE1, MAE2, MAE3\n",
    "  \n",
    "    \n",
    "def graph_compare_3(original_data, people_num, test):\n",
    "    plt.rcParams[\"figure.figsize\"] = (12, 4)\n",
    "    plt.rcParams['lines.linewidth'] = 2\n",
    "    plt.rcParams['axes.grid'] = True\n",
    "    time_range= list(np.arange(66))\n",
    "    \n",
    "    plt.figure(1)\n",
    "    plt.plot(time_range, original_data, 'b-',\n",
    "            time_range, e1, 'r-')\n",
    "    plt.xticks(time_range, rotation=70)\n",
    "    plt.ylim(-500, 8000)\n",
    "    \n",
    "    plt.figure(2)\n",
    "    plt.plot(time_range, original_data, 'b-',\n",
    "            time_range, e2, 'r-')\n",
    "    plt.xticks(time_range, rotation=70)\n",
    "    plt.ylim(-500, 8000)\n",
    "    \n",
    "    plt.figure(3)\n",
    "    plt.plot(time_range, original_data, 'b-',\n",
    "            time_range, e3, 'r-')\n",
    "    plt.xticks(time_range, rotation=70)\n",
    "    plt.ylim(-500, 8000)\n",
    "    \n",
    "    plt.show()\n",
    "    \n",
    "#     d1 = abs(sum(original_data) - sum(e1))\n",
    "#     d2 = abs(sum(original_data) - sum(e2))\n",
    "#     d3 = abs(sum(original_data) - sum(e3))\n",
    "\n",
    "    e1 = lap_mechanism_gamma(original_data, 0, 0, people_num, 0.1, test)\n",
    "    e2 = lap_mechanism_gamma(original_data, 0, 0, people_num, 0.5, test)\n",
    "    e3 = lap_mechanism_gamma(original_data, 0, 0, people_num, 1.0, test)\n",
    "    \n",
    "    d1 = sum(get_abs_diff(original_data, e1))/slot_size\n",
    "    d2 = sum(get_abs_diff(original_data, e2))/slot_size\n",
    "    d3 = sum(get_abs_diff(original_data, e3))/slot_size\n",
    "\n",
    "    print('epsilon 0.1 :', d1)\n",
    "    print('epsilon 0.5 :', d2)\n",
    "    print('epsilon 1.0 :', d3)\n",
    "    \n",
    "    return d1, d2, d3\n",
    "    \n",
    "\n",
    "# 실험 결과를 txt 파일에 쓰기\n",
    "def write_result_to_txt(msg, file_name=''):\n",
    "    file_dir = '/home/hp/jupyter/ljh/eHealthPython/result/'\n",
    "    file_dir += file_name\n",
    "    with open(file_dir, \"at\") as f:\n",
    "        now = datetime.now()\n",
    "        tmp = '%s-%s-%s %s:%s:%s' %(now.year, now.month, now.day, now.hour+9, now.minute, now.second)\n",
    "#         tmp = '%04d-%02d-%02d %02d:%02d:%02d' % (now.tm_year, now.tm_mon, now.tm_mday, now.tm_hour, now.tm_min, now.tm_sec)\n",
    "        tmp += '\\t'\n",
    "        tmp += str(msg)\n",
    "        f.write(tmp)\n",
    "        f.write('\\n')\n",
    "\n",
    "\n",
    "print('Function Import Complete')"
   ]
  },
  {
   "cell_type": "code",
   "execution_count": 102,
   "metadata": {
    "scrolled": true
   },
   "outputs": [
    {
     "name": "stdout",
     "output_type": "stream",
     "text": [
      "Data Reset Complete\n",
      "CPU times: user 6.98 ms, sys: 16.1 ms, total: 23.1 ms\n",
      "Wall time: 236 ms\n"
     ]
    }
   ],
   "source": [
    "%%time\n",
    "# remove all present data\n",
    "!rm /home/hp/jupyter/ljh/eHealthPython/data/*\n",
    "# recover original data\n",
    "!cp /home/hp/jupyter/ljh/eHealthPython/original/* /home/hp/jupyter/ljh/eHealthPython/data\n",
    "print('Data Reset Complete')"
   ]
  },
  {
   "cell_type": "code",
   "execution_count": 103,
   "metadata": {
    "scrolled": false
   },
   "outputs": [
    {
     "name": "stdout",
     "output_type": "stream",
     "text": [
      "/home/hp/jupyter/ljh/eHealthPython/data/hjstep(2018.10~2019.2).csv \t( utf-8 )\n",
      "/home/hp/jupyter/ljh/eHealthPython/data/hjstep(2019.3).csv \t( utf-8 )\n",
      "/home/hp/jupyter/ljh/eHealthPython/data/hjstep(2019.4).csv \t( utf-8 )\n",
      "/home/hp/jupyter/ljh/eHealthPython/data/hjstep(2019.5).csv \t( utf-8 )\n",
      "/home/hp/jupyter/ljh/eHealthPython/data/kndstep(2018.11).csv \t( ascii )\n",
      "/home/hp/jupyter/ljh/eHealthPython/data/kndstep(2018.12).csv \t( ascii )\n",
      "/home/hp/jupyter/ljh/eHealthPython/data/kndstep(2019.2).csv \t( ascii )\n",
      "/home/hp/jupyter/ljh/eHealthPython/data/kndstep(2019.3).csv \t( ascii )\n",
      "/home/hp/jupyter/ljh/eHealthPython/data/kndstep(2019.4).csv \t( ascii )\n",
      "/home/hp/jupyter/ljh/eHealthPython/data/kndstep(2019.5).csv \t( ascii )\n",
      "/home/hp/jupyter/ljh/eHealthPython/data/kndstep(2019.6).csv \t( ascii )\n",
      "/home/hp/jupyter/ljh/eHealthPython/data/kndstep(2019.7).csv \t( ascii )\n",
      "/home/hp/jupyter/ljh/eHealthPython/data/mrstep(2019.3).csv \t( utf-8 )\n",
      "/home/hp/jupyter/ljh/eHealthPython/data/mrstep(2019.6).csv \t( utf-8 )\n",
      "/home/hp/jupyter/ljh/eHealthPython/data/smstep(2018.10~2019.2).csv \t( utf-8 )\n",
      "/home/hp/jupyter/ljh/eHealthPython/data/smstep(2019.3).csv \t( utf-8 )\n",
      "/home/hp/jupyter/ljh/eHealthPython/data/smstep(2019.4).csv \t( utf-8 )\n",
      "/home/hp/jupyter/ljh/eHealthPython/data/smstep(2019.5).csv \t( ascii )\n",
      "/home/hp/jupyter/ljh/eHealthPython/data/smstep(2019.6).csv \t( ascii )\n",
      "/home/hp/jupyter/ljh/eHealthPython/data/ytstep(2018.10~2019.2).csv \t( utf-8 )\n",
      "/home/hp/jupyter/ljh/eHealthPython/data/ytstep(2019.3).csv \t( utf-8 )\n",
      "/home/hp/jupyter/ljh/eHealthPython/data/ytstep(2019.4).csv \t( utf-8 )\n",
      "\n",
      "Get File List Complete\n",
      "CPU times: user 9.31 s, sys: 11.1 ms, total: 9.33 s\n",
      "Wall time: 9.32 s\n"
     ]
    }
   ],
   "source": [
    "%%time\n",
    "# test code for encoding\n",
    "file_list.sort()\n",
    "for file in file_list:\n",
    "    print(file, '\\t(',find_encoding(file),')')\n",
    "    \n",
    "print('\\nGet File List Complete')"
   ]
  },
  {
   "cell_type": "code",
   "execution_count": 104,
   "metadata": {
    "scrolled": true
   },
   "outputs": [
    {
     "name": "stdout",
     "output_type": "stream",
     "text": [
      "1 / 22 ( /home/hp/jupyter/ljh/eHealthPython/data/hjstep(2018.10~2019.2).csv )\n",
      "2 / 22 ( /home/hp/jupyter/ljh/eHealthPython/data/hjstep(2019.3).csv )\n",
      "3 / 22 ( /home/hp/jupyter/ljh/eHealthPython/data/hjstep(2019.4).csv )\n",
      "4 / 22 ( /home/hp/jupyter/ljh/eHealthPython/data/hjstep(2019.5).csv )\n",
      "5 / 22 ( /home/hp/jupyter/ljh/eHealthPython/data/kndstep(2018.11).csv )\n",
      "6 / 22 ( /home/hp/jupyter/ljh/eHealthPython/data/kndstep(2018.12).csv )\n",
      "7 / 22 ( /home/hp/jupyter/ljh/eHealthPython/data/kndstep(2019.2).csv )\n",
      "8 / 22 ( /home/hp/jupyter/ljh/eHealthPython/data/kndstep(2019.3).csv )\n",
      "9 / 22 ( /home/hp/jupyter/ljh/eHealthPython/data/kndstep(2019.4).csv )\n",
      "10 / 22 ( /home/hp/jupyter/ljh/eHealthPython/data/kndstep(2019.5).csv )\n",
      "11 / 22 ( /home/hp/jupyter/ljh/eHealthPython/data/kndstep(2019.6).csv )\n",
      "12 / 22 ( /home/hp/jupyter/ljh/eHealthPython/data/kndstep(2019.7).csv )\n",
      "13 / 22 ( /home/hp/jupyter/ljh/eHealthPython/data/mrstep(2019.3).csv )\n",
      "14 / 22 ( /home/hp/jupyter/ljh/eHealthPython/data/mrstep(2019.6).csv )\n",
      "15 / 22 ( /home/hp/jupyter/ljh/eHealthPython/data/smstep(2018.10~2019.2).csv )\n",
      "16 / 22 ( /home/hp/jupyter/ljh/eHealthPython/data/smstep(2019.3).csv )\n",
      "17 / 22 ( /home/hp/jupyter/ljh/eHealthPython/data/smstep(2019.4).csv )\n",
      "18 / 22 ( /home/hp/jupyter/ljh/eHealthPython/data/smstep(2019.5).csv )\n",
      "19 / 22 ( /home/hp/jupyter/ljh/eHealthPython/data/smstep(2019.6).csv )\n",
      "20 / 22 ( /home/hp/jupyter/ljh/eHealthPython/data/ytstep(2018.10~2019.2).csv )\n",
      "21 / 22 ( /home/hp/jupyter/ljh/eHealthPython/data/ytstep(2019.3).csv )\n",
      "22 / 22 ( /home/hp/jupyter/ljh/eHealthPython/data/ytstep(2019.4).csv )\n",
      "\n",
      "File Preprocess Complete\n",
      "CPU times: user 14.1 s, sys: 108 ms, total: 14.2 s\n",
      "Wall time: 14 s\n"
     ]
    }
   ],
   "source": [
    "%%time\n",
    "# Steps Timestamp Date Time >> Steps Timestamp Date Datetime Hourabs\n",
    "# 걸음 타임스탬프 날짜 시간 >> Steps Timestamp Date Datetime Hour\n",
    "index = 0\n",
    "for file in file_list:\n",
    "    my_encoding = find_encoding(file)\n",
    "    if 'knd' in file or 'smstep(2019.5)' in file or 'smstep(2019.6)' in file:\n",
    "        df = pd.read_csv(file, sep=',', encoding=my_encoding)\n",
    "        del df['Time']\n",
    "        df['Timestamp'] = df['Timestamp'].astype(str).apply(lambda x: x[0:-3])\n",
    "#         df['Timestamp'] = df['Timestamp'].astype(str).str.slice(0:-3)\n",
    "\n",
    "        df['Date'] = df['Timestamp'].astype(int).apply(lambda y : pd.Timestamp(y, unit='s', tz='Asia/Seoul').date())\n",
    "        df['Datetime'] = df['Timestamp'].astype(int).apply(lambda y : pd.Timestamp(y, unit='s', tz='Asia/Seoul'))\n",
    "        df['Hour'] = df['Timestamp'].astype(int).apply(lambda y : pd.Timestamp(y, unit='s', tz='Asia/Seoul').strftime('%H'))\n",
    "    else:\n",
    "        df = pd.read_csv(file, sep=';', encoding=my_encoding)\n",
    "        df.columns = ['걸음', '타임스탬프', '날짜', '시간']\n",
    "        del df['시간']\n",
    "        df['타임스탬프'] = df['타임스탬프'].astype(str).apply(lambda x: x[0:-3])\n",
    "        df['날짜'] = df['타임스탬프'].astype(int).apply(lambda y : pd.Timestamp(y, unit='s', tz='Asia/Seoul').date())\n",
    "        df['Datetime'] = df['타임스탬프'].astype(int).apply(lambda y : pd.Timestamp(y, unit='s', tz='Asia/Seoul'))\n",
    "        df['Hour'] = df['타임스탬프'].astype(int).apply(lambda y : pd.Timestamp(y, unit='s', tz='Asia/Seoul').strftime('%H'))\n",
    "        df.columns = ['Steps', 'Timestamp', 'Date', 'Datetime', 'Hour']\n",
    "    index+=1\n",
    "    print(index,'/',len(file_list), '(', file, ')')\n",
    "#     print(index,'/',len(file_list), '(', file, ')', '\\n', df.head())\n",
    "#     df.to_csv(file)\n",
    "    df.to_csv(file, index=False)\n",
    "    \n",
    "print('\\nFile Preprocess Complete')"
   ]
  },
  {
   "cell_type": "code",
   "execution_count": 105,
   "metadata": {
    "scrolled": true
   },
   "outputs": [
    {
     "name": "stdout",
     "output_type": "stream",
     "text": [
      "/home/hp/jupyter/ljh/eHealthPython/data/hjstep(2018.10~2019.2).csv      1 / 22      79\n",
      "/home/hp/jupyter/ljh/eHealthPython/data/hjstep(2019.3).csv      2 / 22      18\n",
      "/home/hp/jupyter/ljh/eHealthPython/data/hjstep(2019.4).csv      3 / 22      19\n",
      "/home/hp/jupyter/ljh/eHealthPython/data/hjstep(2019.5).csv      4 / 22      17\n",
      "/home/hp/jupyter/ljh/eHealthPython/data/kndstep(2018.11).csv      5 / 22      2\n",
      "/home/hp/jupyter/ljh/eHealthPython/data/kndstep(2018.12).csv      6 / 22      3\n",
      "/home/hp/jupyter/ljh/eHealthPython/data/kndstep(2019.2).csv      7 / 22      5\n",
      "/home/hp/jupyter/ljh/eHealthPython/data/kndstep(2019.3).csv      8 / 22      9\n",
      "/home/hp/jupyter/ljh/eHealthPython/data/kndstep(2019.4).csv      9 / 22      14\n",
      "/home/hp/jupyter/ljh/eHealthPython/data/kndstep(2019.5).csv      10 / 22      9\n",
      "/home/hp/jupyter/ljh/eHealthPython/data/kndstep(2019.6).csv      11 / 22      4\n",
      "/home/hp/jupyter/ljh/eHealthPython/data/kndstep(2019.7).csv      12 / 22      5\n",
      "/home/hp/jupyter/ljh/eHealthPython/data/mrstep(2019.3).csv      13 / 22      10\n",
      "/home/hp/jupyter/ljh/eHealthPython/data/mrstep(2019.6).csv      14 / 22      4\n",
      "/home/hp/jupyter/ljh/eHealthPython/data/smstep(2018.10~2019.2).csv      15 / 22      90\n",
      "/home/hp/jupyter/ljh/eHealthPython/data/smstep(2019.3).csv      16 / 22      14\n",
      "/home/hp/jupyter/ljh/eHealthPython/data/smstep(2019.4).csv      17 / 22      19\n",
      "/home/hp/jupyter/ljh/eHealthPython/data/smstep(2019.5).csv      18 / 22      24\n",
      "/home/hp/jupyter/ljh/eHealthPython/data/smstep(2019.6).csv      19 / 22      13\n",
      "/home/hp/jupyter/ljh/eHealthPython/data/ytstep(2018.10~2019.2).csv      20 / 22      56\n",
      "/home/hp/jupyter/ljh/eHealthPython/data/ytstep(2019.3).csv      21 / 22      13\n",
      "/home/hp/jupyter/ljh/eHealthPython/data/ytstep(2019.4).csv      22 / 22      16\n",
      "total people num : 443\n",
      "CPU times: user 12 s, sys: 19.5 ms, total: 12.1 s\n",
      "Wall time: 12 s\n"
     ]
    }
   ],
   "source": [
    "%%time\n",
    "# 하루 누적 걸음수가 4000 미만인 경우, 영향력 없는 데이터로 간주하고 제외\n",
    "# 10:00 ~ 20:00 사이에 10분간격으로 데이터 측정하여, 하루에 66개의 데이터가 모이지 않은 경우, 영향력 없는 데이터로 간주하고 제외\n",
    "\n",
    "people_num=0\n",
    "avg_data =  np.zeros(slot_size)\n",
    "# avg_data = [0,0,0,0,0,0,0,0,0,0,0,0,0,0,0,0,0,0,0,0,0,0,0,0,0,0,0,0,0,0,0,0,0,0,0,0,\n",
    "#            0,0,0,0,0,0,0,0,0,0,0,0,0,0,0,0,0,0,0,0,0,0,0,0,0,0,0,0,0,0]\n",
    "index = 0\n",
    "slot_size = 66\n",
    "user_list = ['hj', 'knd', 'sm', 'mr', 'yt']\n",
    "user_data_count = {'hjstep': 0, 'kndstep': 0, 'smstep':0 , 'mrstep': 0, 'ytstep': 0}\n",
    "\n",
    "noise_sum = 0\n",
    "\n",
    "N = 443\n",
    "group_cnt = 5\n",
    "one_group = N//group_cnt\n",
    "tmp = []\n",
    "\n",
    "# 모든 날의 데이터v프레임을 담을 리스트\n",
    "res_lst = []\n",
    "\n",
    "for file in file_list:\n",
    "#     df = pd.read_csv(file, sep=',', index_col='Datetime', parse_dates=True)\n",
    "    df = pd.read_csv(file, sep=',')\n",
    "    df = df.loc[df.Hour.between(10,20)]\n",
    "    dates = list(df.groupby(df['Date']).size()[df.groupby(df['Date']).size()==66].index)\n",
    "#     print(dates, '<',len(dates), '>')\n",
    "\n",
    "    for row in df.itertuples():\n",
    "        if getattr(row, 'Date') not in dates:\n",
    "            df.drop(row.Index, inplace=True)\n",
    "\n",
    "    selected_df = df.groupby(df['Date']).filter(lambda y: y['Steps'].max()>4000)\n",
    "    people_num+=len(selected_df.groupby(selected_df['Date']))\n",
    "###########100명 or 443명 조건\n",
    "#         if people_num > 100:\n",
    "#             break\n",
    "    for key in user_data_count.keys():\n",
    "        if key in file:\n",
    "            user_data_count[key] += len(selected_df.groupby(selected_df['Date']))\n",
    "    # test with one file code 합쳐서 들어갈 곳\n",
    "############################################################\n",
    "#     파일을 읽어서 데이터프레임에 담고 정해진 시간대의 데이터만 가져오기\n",
    "    slot_size = 66\n",
    "    df = pd.read_csv(file, sep=',')\n",
    "    df = df.loc[df.Hour.between(10,20)]\n",
    "    dates = list(df.groupby(df['Date']).size()[df.groupby(df['Date']).size()==slot_size].index)\n",
    "#     slot_size(66)만큼 데이터가 없는 날 drop\n",
    "    for row in df.itertuples():\n",
    "        if getattr(row, 'Date') not in dates:\n",
    "            df.drop(row.Index, inplace=True)\n",
    "#     하루 누적 걸음 수가 4000 이하인 날 제외\n",
    "    df = df.groupby(df['Date']).filter(lambda y: y['Steps'].max()>4000)\n",
    "\n",
    "    d = dict()\n",
    "    for day in dict(list(df.groupby(df['Date']))):    \n",
    "        d = dict(list(df.groupby(df['Date'])))[day]\n",
    "        d['Slot'] = [i+1 for i in range(66)]\n",
    "        res_lst.append(d)\n",
    "    \n",
    "#   print('당일 데이터가 66개인 날 중 최댓값이 4000 이상인 날:', len(df.groupby(df['Date'])), '* 66 =', len(df.groupby(df['Date']))*66,'\\n')\n",
    "    dates = list(df.groupby(df['Date']).size()[df.groupby(df['Date']).size()==slot_size].index)\n",
    "    all_date_dict = dict()\n",
    "\n",
    "    for date in dates:\n",
    "        cur_date_list = []\n",
    "        for row in df.itertuples(index=True, name='Pandas'):\n",
    "            if getattr(row, 'Date')==date:\n",
    "                cur_date_list.append(getattr(row, 'Steps'))\n",
    "        all_date_dict[date] = cur_date_list\n",
    "# 443일(명)의 평균\n",
    "    for i in range(len(all_date_dict)):\n",
    "        avg_data += np.array(all_date_dict[dates[i]])\n",
    "        \n",
    "# 데이터 DB에 저장\n",
    "#     step_data_collection.insert_many(list(df.to_dict(orient='records')))\n",
    "    index+=1\n",
    "    print(file,'    ', index,'/',len(file_list),'    ', len(selected_df.groupby(selected_df['Date'])))\n",
    "    \n",
    "print('total people num :', people_num)\n",
    "avg_data = avg_data/people_num"
   ]
  },
  {
   "cell_type": "code",
   "execution_count": 106,
   "metadata": {},
   "outputs": [
    {
     "name": "stdout",
     "output_type": "stream",
     "text": [
      "<data count of each user>\n",
      " {'hjstep': 133, 'kndstep': 51, 'smstep': 160, 'mrstep': 14, 'ytstep': 85}\n",
      "\n",
      "<average of all user's step data>\n",
      " [ 564.38  614.81  678.09  749.01  825.98  902.83  993.94 1064.14 1143.92\n",
      " 1221.76 1304.73 1417.39 1531.41 1641.91 1740.31 1858.23 1987.26 2095.56\n",
      " 2200.73 2290.33 2366.36 2455.12 2541.48 2633.12 2732.58 2813.99 2894.24\n",
      " 2959.47 3036.04 3136.92 3238.11 3325.77 3403.89 3494.28 3564.72 3656.27\n",
      " 3733.11 3801.26 3882.76 3970.75 4054.34 4146.04 4238.47 4322.65 4413.82\n",
      " 4523.38 4630.56 4759.27 4912.72 5039.85 5144.31 5264.78 5383.62 5493.14\n",
      " 5611.16 5733.97 5853.07 5971.24 6073.6  6168.7  6265.42 6365.63 6452.57\n",
      " 6530.3  6614.48 6715.62]\n",
      "\n"
     ]
    }
   ],
   "source": [
    "print('<data count of each user>\\n', user_data_count)\n",
    "print()\n",
    "print('<average of all user\\'s step data>\\n', np.round(avg_data, 2))\n",
    "print()\n",
    "# print('<each dataframe of all user>')\n",
    "# for idx, res in enumerate(res_lst):\n",
    "#     print(idx, 'th data')\n",
    "#     print(res)"
   ]
  },
  {
   "cell_type": "markdown",
   "metadata": {},
   "source": [
    "# Experimental Test Code\n",
    "1. 443명의 평균 데이터에 대해 3가지 privacy budget(e=0.1, 0.5, 1.0)으로 1회 실험\n",
    "2. 1번 과정을 1000회 실험\n",
    "3. 사용자 수와 반복 횟수를 달리하여 실험 (N=100 or 443, repeat=100 or 1000) -> 조건에 따른 노이즈 생성 정도 체크\n",
    "4. N(443)명의 사용자를 그룹별로 나누고 3가지 privacy budget 조건으로 1000회 실험 -> negative한 실험결과 발생으로 사용하지 않음"
   ]
  },
  {
   "cell_type": "code",
   "execution_count": 65,
   "metadata": {
    "scrolled": true
   },
   "outputs": [
    {
     "name": "stdout",
     "output_type": "stream",
     "text": [
      "number of people : 443\n",
      "epsilon 0.1 : 77.29341631842883\n",
      "epsilon 0.5 : 20.659526926300725\n",
      "epsilon 1.0 : 0.6999056288060139\n"
     ]
    },
    {
     "data": {
      "image/png": "[encoded data removed]",
      "text/plain": [
       "<Figure size 720x288 with 1 Axes>"
      ]
     },
     "metadata": {
      "needs_background": "light"
     },
     "output_type": "display_data"
    },
    {
     "name": "stdout",
     "output_type": "stream",
     "text": [
      "CPU times: user 558 ms, sys: 12 ms, total: 570 ms\n",
      "Wall time: 560 ms\n"
     ]
    },
    {
     "data": {
      "text/plain": [
       "(77.29341631842883, 20.659526926300725, 0.6999056288060139)"
      ]
     },
     "execution_count": 65,
     "metadata": {},
     "output_type": "execute_result"
    }
   ],
   "source": [
    "%%time\n",
    "# 443명의 평균 데이터를 여러가지 조건으로 비교\n",
    "ori = list(np.around(avg_data))\n",
    "print('number of people :', people_num)\n",
    "graph_compare_with_privacy_conditions(ori, people_num, 1)"
   ]
  },
  {
   "cell_type": "code",
   "execution_count": 108,
   "metadata": {
    "scrolled": true
   },
   "outputs": [
    {
     "name": "stdout",
     "output_type": "stream",
     "text": [
      "<<Mean Absolute Deviation>>\n",
      "number of people : 443\n",
      "1. epsilon 0.1 : 48.69\n",
      "2. epsilon 0.5 : 9.45\n",
      "3. epsilon 1.0 : 4.33\n",
      "\n",
      "CPU times: user 8.92 s, sys: 19.8 ms, total: 8.94 s\n",
      "Wall time: 8.86 s\n"
     ]
    }
   ],
   "source": [
    "%%time\n",
    "ep1, ep2, ep3 = 0, 0, 0\n",
    "ori = list(np.around(avg_data))\n",
    "repeat = 1000\n",
    "for i in range(1000):\n",
    "#     print('%dth test' %(i+1))\n",
    "    ori = list(np.around(avg_data))\n",
    "#     tmp1, tmp2, tmp3 = graph_compare_with_privacy_conditions(ori, people_num, 1)\n",
    "    e1 = lap_mechanism_gamma(ori, 0, 0, people_num, 0.1, 1)\n",
    "    e2 = lap_mechanism_gamma(ori, 0, 0, people_num, 0.5, 1)\n",
    "    e3 = lap_mechanism_gamma(ori, 0, 0, people_num, 1.0, 1)\n",
    "    \n",
    "    tmp1 = sum(get_abs_diff(ori, e1))/slot_size\n",
    "    tmp2 = sum(get_abs_diff(ori, e2))/slot_size\n",
    "    tmp3 = sum(get_abs_diff(ori, e3))/slot_size\n",
    "\n",
    "\n",
    "#     tmp1, tmp2, tmp3 = graph_compare_3(ori, people_num, 1)\n",
    "    ep1 += tmp1\n",
    "    ep2 += tmp2\n",
    "    ep3 += tmp3\n",
    "\n",
    "print(\"<<Mean Absolute Deviation>>\")\n",
    "print('number of people :', people_num)\n",
    "print('1. epsilon 0.1 :', round(ep1/repeat, 2))\n",
    "print('2. epsilon 0.5 :', round(ep2/repeat, 2))\n",
    "print('3. epsilon 1.0 :', round(ep3/repeat, 2))\n",
    "print()"
   ]
  },
  {
   "cell_type": "code",
   "execution_count": null,
   "metadata": {
    "scrolled": false
   },
   "outputs": [
    {
     "name": "stdout",
     "output_type": "stream",
     "text": [
      "1번째 실험 중..\n",
      "2번째 실험 중..\n",
      "3번째 실험 중..\n",
      "4번째 실험 중..\n"
     ]
    }
   ],
   "source": [
    "%%time\n",
    "# 노이즈 생성 정도 검증을 위한 실험\n",
    "avg = 0\n",
    "n = 100\n",
    "repeat = 1000\n",
    "file_name = 'noise_diff_repeat_' + str(n) + 'X' + str(repeat) + '.txt'\n",
    "for i in range(repeat):\n",
    "    print('%d번째 실험 중..' %(i+1))\n",
    "    people_num=0\n",
    "    index = 0\n",
    "    slot_size = 66\n",
    "    user_list = ['hj', 'knd', 'sm', 'mr', 'yt']\n",
    "    user_data_count = {'hjstep': 0, 'kndstep': 0, 'smstep':0 , 'mrstep': 0, 'ytstep': 0}\n",
    "\n",
    "    noise_sum = 0\n",
    "\n",
    "    for file in file_list:\n",
    "        df = pd.read_csv(file, sep=',')\n",
    "        df = df.loc[df.Hour.between(10,20)]\n",
    "        dates = list(df.groupby(df['Date']).size()[df.groupby(df['Date']).size()==66].index)\n",
    "    #     print(dates, '<',len(dates), '>')\n",
    "\n",
    "        for row in df.itertuples():\n",
    "            if getattr(row, 'Date') not in dates:\n",
    "                df.drop(row.Index, inplace=True)\n",
    "\n",
    "        selected_df = df.groupby(df['Date']).filter(lambda y: y['Steps'].max()>4000)\n",
    "        people_num+=len(selected_df.groupby(selected_df['Date']))\n",
    "# 100명 or 443명 조건\n",
    "#         if people_num > 100:\n",
    "#             break\n",
    "        for key in user_data_count.keys():\n",
    "            if key in file:\n",
    "                user_data_count[key] += len(selected_df.groupby(selected_df['Date']))\n",
    "\n",
    "        slot_size = 66\n",
    "        df = pd.read_csv(file, sep=',')\n",
    "        df = df.loc[df.Hour.between(10,20)]\n",
    "        dates = list(df.groupby(df['Date']).size()[df.groupby(df['Date']).size()==slot_size].index)\n",
    "        \n",
    "        for row in df.itertuples():\n",
    "            if getattr(row, 'Date') not in dates:\n",
    "                df.drop(row.Index, inplace=True)\n",
    "\n",
    "        df = df.groupby(df['Date']).filter(lambda y: y['Steps'].max()>4000)\n",
    "    #         print('당일 데이터가 66개인 날 중 최댓값이 4000 이상인 날:', len(df.groupby(df['Date'])), '* 66 =', len(df.groupby(df['Date']))*66,'\\n')\n",
    "        dates = list(df.groupby(df['Date']).size()[df.groupby(df['Date']).size()==slot_size].index)\n",
    "        all_date_dict = dict()\n",
    "\n",
    "        for date in dates:\n",
    "            cur_date_list = []\n",
    "            for row in df.itertuples(index=True, name='Pandas'):\n",
    "                if getattr(row, 'Date')==date:\n",
    "                    cur_date_list.append(getattr(row, 'Steps'))\n",
    "            all_date_dict[date] = cur_date_list\n",
    "            noise_sum += sum(lap_mechanism_gamma(all_date_dict[date], 0, 0, people_num, 1.0), 1) - sum(all_date_dict[date])\n",
    "    write_result_to_txt(((abs(lap(0,(7000)/(1.0/slot_size)) - noise_sum))), file_name)\n",
    "print('실험 완료')"
   ]
  },
  {
   "cell_type": "code",
   "execution_count": 58,
   "metadata": {},
   "outputs": [
    {
     "name": "stdout",
     "output_type": "stream",
     "text": [
      "Epsilon : 0.1\t 0.5\t1.0\n",
      "Group 1 : [16182.9   3164.56  1459.  ]\n",
      "Group 2 : [17073.56  3034.67  1708.36]\n",
      "Group 3 : [15525.14  2900.71  1387.22]\n",
      "Group 4 : [15977.08  2946.27  1600.12]\n",
      "Group 5 : [16626.42  2873.34  1429.83]\n",
      "Group 6 : [15341.71  2957.24  1513.33]\n",
      "CPU times: user 9.7 s, sys: 51.7 ms, total: 9.75 s\n",
      "Wall time: 9.67 s\n"
     ]
    }
   ],
   "source": [
    "%%time\n",
    "\n",
    "ss=66\n",
    "g=6\n",
    "group_avg_lst = [[0 for i in range(ss//g)] for j in range(g)]\n",
    "\n",
    "# for idx, group in enumerate(group_avg_lst):\n",
    "#     print('Group', idx+1, '-', group)\n",
    "# print()\n",
    "\n",
    "for x in range(len(res_lst)):\n",
    "    for i in range(1, g+1):\n",
    "        for j in range(i, ss+1, g):\n",
    "            group_avg_lst[i-1][(j-1)//6] += list(res_lst[x]['Steps'].values)[j-1]\n",
    "#             print(i-1, (j-1)//6, x, j-1,list(res_lst[x]['Steps'].values)[j-1])\n",
    "#             print(list(res_lst[x]['Steps'].values)[j-1], end=' ')\n",
    "\n",
    "for idx, group in enumerate(group_avg_lst):\n",
    "    group_avg_lst[idx] = np.round((np.array(group)/len(res_lst)), 2)\n",
    "\n",
    "# 3 * 6 matrix (3 epsilon and 6 group)\n",
    "group_avg_result = [[0 for i in range(3)] for j in range(g)]\n",
    "repeat = 1000\n",
    "\n",
    "print('Epsilon : 0.1\\t 0.5\\t1.0')\n",
    "\n",
    "for i in range(repeat):\n",
    "#     print('%d번째 실험' %(i+1))\n",
    "    for idx, group in enumerate(group_avg_lst):\n",
    "        group_avg_result[idx][0] += np.round(abs((sum(list(np.round(lap_mechanism_gamma(group, 0, 0, len(res_lst)/g, 0.1, 2), 2)))) - sum(list(group))), 2)\n",
    "        group_avg_result[idx][1] += np.round(abs((sum(list(np.round(lap_mechanism_gamma(group, 0, 0, len(res_lst)/g, 0.5, 2), 2)))) - sum(list(group))), 2)\n",
    "        group_avg_result[idx][2] += np.round(abs((sum(list(np.round(lap_mechanism_gamma(group, 0, 0, len(res_lst)/g, 1.0, 2), 2)))) - sum(list(group))), 2)\n",
    "\n",
    "for idx, group in enumerate(group_avg_result):\n",
    "    print('Group', idx+1, end=' : ')\n",
    "    print(np.round(np.array(group)/repeat, 2))\n",
    "\n",
    "# print('Epsilon : 0.1\\t\\t0.5\\t\\t1.0')    \n",
    "# for idx, group in enumerate(group_avg_lst):\n",
    "#     print('Group', idx+1, end=' : ')\n",
    "# #     print('original data :', list(group))\n",
    "# #     print('  noised data :', list(np.round(gamma_test2(group, 0, 0, len(res_lst)/g, 0.1), 2)))\n",
    "#     print(np.round((sum(list(np.round(lap_mechanism_gamma(group, 0, 0, len(res_lst)/g, 0.1, 2), 2)))) - sum(list(group))print(np.round(, 2), end='\\t')\n",
    "#     print(np.round((sum(list(np.round(lap_mechanism_gamma(group, 0, 0, len(res_lst)/g, 0.5, 2), 2)))) - sum(list(group)), 2), end='\\t')\n",
    "#     print(np.round((sum(list(np.round(lap_mechanism_gamma(group, 0, 0, len(res_lst)/g, 1.0, 2), 2)))) - sum(list(group)), 2))\n",
    "#     sensitivity, N, epsilon, slot_size, group"
   ]
  },
  {
   "cell_type": "markdown",
   "metadata": {},
   "source": [
    "# Unit Test Code\n",
    "- 유닛 테스트를 위해 하나의 파일로만 코드 실행\n",
    "\n",
    "    1. 당일 데이터가 66개인 날 중 데이터의 최댓값이 4000 이상인 날<br>\n",
    "    2. 1번 과정에서 뽑은 데이터 프레임을 히스토그램 형태로 만들어보기<br>\n",
    "    3. mongoDB 연결 후 데이터 삽입 테스트<br>\n",
    "    4. Paillier Homomorphic Encryption Scheme를 통한 암호화 테스트<br>\n",
    "    5. 데이터 프레임을 iterate하는 여러가지 방법<br>\n",
    "    6. 데이터 복제<br>"
   ]
  },
  {
   "cell_type": "code",
   "execution_count": 150,
   "metadata": {
    "scrolled": true
   },
   "outputs": [
    {
     "name": "stdout",
     "output_type": "stream",
     "text": [
      "당일 데이터 갯수가 66개인 날 : 20\n",
      "당일 데이터가 66개인 날 중 최댓값이 4000 이상인 날: 9 * 66 = 594 \n",
      "\n",
      "CPU times: user 70.5 ms, sys: 30 µs, total: 70.5 ms\n",
      "Wall time: 69.1 ms\n"
     ]
    }
   ],
   "source": [
    "%%time\n",
    "# 1. test with one file\n",
    "\n",
    "slot_size = 66\n",
    "\n",
    "# df = pd.read_csv(file_list[0], sep=',', index_col='Datetime', parse_dates=True)\n",
    "df = pd.read_csv(file_list[0], sep=',')\n",
    "df = df.loc[df.Hour.between(10,20)]\n",
    "\n",
    "dates = list(df.groupby(df['Date']).size()[df.groupby(df['Date']).size()==slot_size].index)\n",
    "print('당일 데이터 갯수가 66개인 날 :', len(dates))\n",
    "\n",
    "for row in df.itertuples():\n",
    "    if getattr(row, 'Date') not in dates:\n",
    "        df.drop(row.Index, inplace=True)\n",
    "    \n",
    "df = df.groupby(df['Date']).filter(lambda y: y['Steps'].max()>4000)\n",
    "print('당일 데이터가 66개인 날 중 최댓값이 4000 이상인 날:', len(df.groupby(df['Date'])), '* 66 =', len(df.groupby(df['Date']))*66,'\\n')\n",
    "dates = list(df.groupby(df['Date']).size()[df.groupby(df['Date']).size()==slot_size].index)\n",
    "# df\n",
    "\n",
    "# df.set_index(df['Datetime'].astype('datetime64[ns]'), inplace=True)\n",
    "# df['Steps'].resample(rule='10T').max()\n",
    "\n",
    "df[['Steps', 'Timestamp', 'Date', 'Datetime', 'Hour']]\n",
    "header = ['Steps', 'Timestamp', 'Date', 'Datetime', 'Hour']\n",
    "# df[header]"
   ]
  },
  {
   "cell_type": "code",
   "execution_count": 198,
   "metadata": {
    "scrolled": true
   },
   "outputs": [
    {
     "data": {
      "image/png": "[encoded data removed]",
      "text/plain": [
       "<Figure size 720x288 with 1 Axes>"
      ]
     },
     "metadata": {
      "needs_background": "light"
     },
     "output_type": "display_data"
    },
    {
     "name": "stdout",
     "output_type": "stream",
     "text": [
      "CPU times: user 166 ms, sys: 0 ns, total: 166 ms\n",
      "Wall time: 162 ms\n"
     ]
    }
   ],
   "source": [
    "%%time\n",
    "# 2. test with one file - histogram generate\n",
    "\n",
    "histogram_generate(df)"
   ]
  },
  {
   "cell_type": "markdown",
   "metadata": {},
   "source": [
    "# Issue\n",
    "몽고디비의 호스트 이름을 서버 ip주소로 할 시 Server Selection TimeOut Error가 발생하는데 이는 호스트 이름을 몽고 클라이언트가 제대로 인식하지 못하는 문제 발생\n",
    "# 해결\n",
    "mongodb://117.16.43.107:27017/ -> mongodb://localhost:27017/ 로 해결"
   ]
  },
  {
   "cell_type": "code",
   "execution_count": 25,
   "metadata": {},
   "outputs": [
    {
     "name": "stdout",
     "output_type": "stream",
     "text": [
      "Data Inserting..\n",
      "CPU times: user 237 ms, sys: 0 ns, total: 237 ms\n",
      "Wall time: 392 ms\n"
     ]
    },
    {
     "data": {
      "text/plain": [
       "<pymongo.results.InsertManyResult at 0x7f98ac5099c8>"
      ]
     },
     "execution_count": 25,
     "metadata": {},
     "output_type": "execute_result"
    }
   ],
   "source": [
    "%%time\n",
    "import pymongo\n",
    "from pymongo import MongoClient\n",
    "import pandas as pd\n",
    "\n",
    "# Making a Connection with MongoClient\n",
    "# eHealthdb.step_data\n",
    "client = MongoClient(\"mongodb://localhost:27017/\")\n",
    "# database\n",
    "db = client[\"eHealthdb\"]\n",
    "# collection\n",
    "step_data_collection = db[\"step_data\"]\n",
    "# data insert\n",
    "print('Data Inserting..')\n",
    "step_data_collection.insert_many(list(df.to_dict(orient='records')))"
   ]
  },
  {
   "cell_type": "code",
   "execution_count": 444,
   "metadata": {
    "scrolled": true
   },
   "outputs": [
    {
     "name": "stdout",
     "output_type": "stream",
     "text": [
      "==  Paillier Homomorphic Encryption Scheme  ==\n",
      "\n",
      ">> Generating Ciphertext..\n",
      "CPU times: user 5.68 s, sys: 0 ns, total: 5.68 s\n",
      "Wall time: 5.67 s\n"
     ]
    }
   ],
   "source": [
    "%%time\n",
    "print('==  Paillier Homomorphic Encryption Scheme  ==\\n\\n>> Generating Ciphertext..')\n",
    "pa = Paillier()\n",
    "pa.setKey(pa.pub_key, pa.priv_key)\n",
    "encrypted_data_list = pa.enc(lap_mechanism_gamma(all_date_dict[dates[1]], 0, 0, len(dates), 1.0, 1))\n",
    "# print('>> Encrypt Complete.\\n>> Please Wait for function check..')\n",
    "# pa.func_chk(lap_mechanism_gamma(all_date_dict[dates[1]]))\n",
    "# print('>> Function Check Complete.')\n",
    "# for data in encrypted_data_list:\n",
    "#     print(pa.priv_key.decrypt(data))\n",
    "# graph_compare_with_noisy_data(all_date_dict[dates[1]], ), 1)"
   ]
  },
  {
   "cell_type": "code",
   "execution_count": 468,
   "metadata": {},
   "outputs": [
    {
     "data": {
      "image/png": "[encoded data removed]",
      "text/plain": [
       "<Figure size 720x288 with 1 Axes>"
      ]
     },
     "metadata": {
      "needs_background": "light"
     },
     "output_type": "display_data"
    }
   ],
   "source": [
    "graph_compare_with_noisy_data(all_date_dict[dates[1]], lap_mechanism_gamma(all_date_dict[dates[1]], 0, 0, 443, 1.0, 1), 1)"
   ]
  },
  {
   "cell_type": "code",
   "execution_count": null,
   "metadata": {},
   "outputs": [],
   "source": [
    "# #various method to iterate dataframe\n",
    "# #1\n",
    "# for i in range(len(df)):\n",
    "#     for date in dates:\n",
    "#         cur_date = date\n",
    "#         if df.iloc[i, 2] == cur_date:\n",
    "#             pass\n",
    "#             #날짜가 같을 동안 blahblah\n",
    "#         else:\n",
    "#             cur_date = df.iloc[i, 2]\n",
    "#             print('date changed!')\n",
    "#         print(date)\n",
    "# #2\n",
    "# for row_dict in df.to_dict(orient='records'):\n",
    "#     for date in dates:\n",
    "#         cur_date = date\n",
    "#         cur_date_list = []\n",
    "#         if row_dict['Date'] == cur_date:\n",
    "#             for i in range(slot_size):\n",
    "#                 cur_date_list.append(row_dict['Steps'])\n",
    "#         else:\n",
    "#             cur_date = row_dict['Date']\n",
    "#             print('date changed')\n",
    "#         print(date)\n",
    "# #3\n",
    "# for row in df.itertuples(index=False, name='Pandas'):\n",
    "#     cur_date_dict=dict()\n",
    "#     for date in dates:\n",
    "#         cur_date = date\n",
    "#         if getattr(row, 'Date') == cur_date:\n",
    "#             pass\n",
    "#         else:\n",
    "#             cur_date = getattr(row, 'Date')\n",
    "#             for i in range(slot_size):\n",
    "#                 cur_date_dict[i] = getattr(row, 'Steps')\n",
    "#             print(cur_date_dict)\n",
    "#             print('date changed')\n",
    "#         print(date)"
   ]
  },
  {
   "cell_type": "code",
   "execution_count": 386,
   "metadata": {},
   "outputs": [
    {
     "ename": "AttributeError",
     "evalue": "'numpy.ndarray' object has no attribute 'index'",
     "output_type": "error",
     "traceback": [
      "\u001b[0;31m---------------------------------------------------------------------------\u001b[0m",
      "\u001b[0;31mAttributeError\u001b[0m                            Traceback (most recent call last)",
      "\u001b[0;32m<ipython-input-386-d52695ffd503>\u001b[0m in \u001b[0;36m<module>\u001b[0;34m\u001b[0m\n\u001b[1;32m     10\u001b[0m \u001b[0;31m# 전체 날짜 평균 데이터 구하는 코드\u001b[0m\u001b[0;34m\u001b[0m\u001b[0;34m\u001b[0m\u001b[0;34m\u001b[0m\u001b[0m\n\u001b[1;32m     11\u001b[0m \u001b[0mavg_data\u001b[0m \u001b[0;34m=\u001b[0m \u001b[0mnp\u001b[0m\u001b[0;34m.\u001b[0m\u001b[0mzeros\u001b[0m\u001b[0;34m(\u001b[0m\u001b[0mslot_size\u001b[0m\u001b[0;34m)\u001b[0m\u001b[0;34m\u001b[0m\u001b[0;34m\u001b[0m\u001b[0m\n\u001b[0;32m---> 12\u001b[0;31m \u001b[0mdf\u001b[0m\u001b[0;34m.\u001b[0m\u001b[0mindex\u001b[0m \u001b[0;34m=\u001b[0m \u001b[0mnp\u001b[0m\u001b[0;34m.\u001b[0m\u001b[0marange\u001b[0m\u001b[0;34m(\u001b[0m\u001b[0;36m1\u001b[0m\u001b[0;34m,\u001b[0m \u001b[0mlen\u001b[0m\u001b[0;34m(\u001b[0m\u001b[0mdf\u001b[0m\u001b[0;34m)\u001b[0m\u001b[0;34m+\u001b[0m\u001b[0;36m1\u001b[0m\u001b[0;34m)\u001b[0m\u001b[0;34m\u001b[0m\u001b[0;34m\u001b[0m\u001b[0m\n\u001b[0m\u001b[1;32m     13\u001b[0m \u001b[0;34m\u001b[0m\u001b[0m\n\u001b[1;32m     14\u001b[0m \u001b[0;34m\u001b[0m\u001b[0m\n",
      "\u001b[0;31mAttributeError\u001b[0m: 'numpy.ndarray' object has no attribute 'index'"
     ]
    }
   ],
   "source": [
    "# 3. test with one file\n",
    "# #5배 복제\n",
    "# duplicated_df = pd.DataFrame(columns=['Steps', 'Timestamp', 'Date', 'Datetime', 'Hour'])\n",
    "\n",
    "# for i in range(5):\n",
    "#     duplicated_df = duplicated_df.append(df, ignore_index=True)\n",
    "\n",
    "# duplicated_df\n",
    "\n",
    "# # 전체 날짜 평균 데이터 구하는 코드\n",
    "# avg_data = np.zeros(slot_size)\n",
    "# duplicated_df.index = np.arange(1, len(duplicated_df)+1)\n",
    "\n",
    "        \n",
    "# # for i in range(len(avg_data)):\n",
    "# #     print(i)    \n",
    "# for i in range(slot_size):\n",
    "#     for j in range(len(duplicated_df)//slot_size):\n",
    "# #         print(i+j*66, end=' ')\n",
    "#         avg_data[i] += duplicated_df.iloc[i+(j*slot_size)]['Steps']\n",
    "\n",
    "# avg_result = avg_data / slot_size\n",
    "# del avg_data\n",
    "# arr = np.rint(avg_result).astype('int32')\n",
    "\n",
    "# plt.figure(1)\n",
    "# # plt.ylim(-50, 50)\n",
    "# plt.plot(arr, '-b')\n",
    "\n",
    "# plt.show()"
   ]
  }
 ],
 "metadata": {
  "kernelspec": {
   "display_name": "Python 3",
   "language": "python",
   "name": "python3"
  },
  "language_info": {
   "codemirror_mode": {
    "name": "ipython",
    "version": 3
   },
   "file_extension": ".py",
   "mimetype": "text/x-python",
   "name": "python",
   "nbconvert_exporter": "python",
   "pygments_lexer": "ipython3",
   "version": "3.6.8"
  }
 },
 "nbformat": 4,
 "nbformat_minor": 2
}
