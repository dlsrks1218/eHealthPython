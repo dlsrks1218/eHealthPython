{
 "cells": [
  {
   "cell_type": "code",
   "execution_count": 17,
   "metadata": {},
   "outputs": [],
   "source": [
    "# reference : https://coderzcolumn.com/tutorials/python/paillier-homomorphic-encryption-phe\n",
    "\n",
    "# !pip3 install phe"
   ]
  },
  {
   "cell_type": "code",
   "execution_count": 38,
   "metadata": {},
   "outputs": [],
   "source": [
    "import phe\n",
    "from phe import paillier\n",
    "import json"
   ]
  },
  {
   "cell_type": "code",
   "execution_count": 63,
   "metadata": {},
   "outputs": [],
   "source": [
    "def paillier_homomorphic_encryption(data_lst=[]):\n",
    "    pub_key,priv_key = paillier.generate_paillier_keypair(n_length=2048)\n",
    "    encrypted_data_lst = []\n",
    "    for data in data_lst:\n",
    "        encrypted_data_lst.append(pub_key.encrypt(data))\n",
    "    \n",
    "    return encrypted_data_lst\n",
    "\n",
    "\n",
    "class Paillier:\n",
    "    def setKey(self, pub_key, priv_key):\n",
    "        self.pub_key, self.priv_key = paillier.generate_paillier_keypair(n_length=2048)\n",
    "        \n",
    "    def enc(data_lst=[]):\n",
    "        encrypted_data_lst = []\n",
    "        for data in data_lst:\n",
    "            encrypted_data_lst.append(self.pub_key.encrypt(data))\n",
    "        return encrypted_data_lst"
   ]
  },
  {
   "cell_type": "code",
   "execution_count": 44,
   "metadata": {},
   "outputs": [
    {
     "name": "stdout",
     "output_type": "stream",
     "text": [
      "CPU times: user 99.1 ms, sys: 0 ns, total: 99.1 ms\n",
      "Wall time: 98.2 ms\n"
     ]
    }
   ],
   "source": [
    "%%time\n",
    "pub_key,priv_key = paillier.generate_paillier_keypair(n_length=2048) ## Generating public/private key pair"
   ]
  },
  {
   "cell_type": "code",
   "execution_count": 45,
   "metadata": {},
   "outputs": [
    {
     "name": "stdout",
     "output_type": "stream",
     "text": [
      "CPU times: user 324 ms, sys: 0 ns, total: 324 ms\n",
      "Wall time: 322 ms\n"
     ]
    },
    {
     "data": {
      "text/plain": [
       "(5, 5.649, 5.5390625)"
      ]
     },
     "execution_count": 45,
     "metadata": {},
     "output_type": "execute_result"
    }
   ],
   "source": [
    "%%time\n",
    "enc1 = pub_key.encrypt(5)  ## Encrypt with public key\n",
    "enc2 = pub_key.encrypt(5.649)\n",
    "enc3 = pub_key.encrypt(5.5397,precision=1e-2)\n",
    "priv_key.decrypt(enc1), priv_key.decrypt(enc2), priv_key.decrypt(enc3)  ## Decrypt with private key"
   ]
  },
  {
   "cell_type": "code",
   "execution_count": 46,
   "metadata": {},
   "outputs": [
    {
     "name": "stdout",
     "output_type": "stream",
     "text": [
      "CPU times: user 806 ms, sys: 0 ns, total: 806 ms\n",
      "Wall time: 805 ms\n"
     ]
    },
    {
     "data": {
      "text/plain": [
       "(5.5, 13.6, 3.14)"
      ]
     },
     "execution_count": 46,
     "metadata": {},
     "output_type": "execute_result"
    }
   ],
   "source": [
    "%%time\n",
    "keyring = paillier.PaillierPrivateKeyring()\n",
    "pub_keys = []\n",
    "for i in range(5):\n",
    "    pub,priv = paillier.generate_paillier_keypair()\n",
    "    pub_keys.append(pub)\n",
    "    keyring.add(priv)\n",
    "enc1= pub_keys[0].encrypt(5.5)\n",
    "enc2= pub_keys[2].encrypt(13.6)\n",
    "enc3= pub_keys[3].encrypt(3.14)\n",
    "## Notice below keyring will findout right private key for decrypting number without developer manually keeping track of it..\n",
    "keyring.decrypt(enc1), keyring.decrypt(enc2), keyring.decrypt(enc3)"
   ]
  },
  {
   "cell_type": "code",
   "execution_count": 67,
   "metadata": {},
   "outputs": [
    {
     "name": "stdout",
     "output_type": "stream",
     "text": [
      "<phe.paillier.EncryptedNumber object at 0x7efe6fbfcac8>\n",
      "CPU times: user 3.62 ms, sys: 0 ns, total: 3.62 ms\n",
      "Wall time: 3.32 ms\n"
     ]
    }
   ],
   "source": [
    "%%time\n",
    "# enc1 = pub_key.encrypt(5.5)\n",
    "# enc2 = pub_key.encrypt(8.3)\n",
    "# enc3 = pub_key.encrypt(12.6)\n",
    "# print(priv_key.decrypt(enc1))\n",
    "# enc1 = enc1 + 3.3\n",
    "# print(priv_key.decrypt(enc1))\n",
    "# enc1 = enc1 - 3.3\n",
    "# print(priv_key.decrypt(enc1))\n",
    "# enc4 = enc2 + enc3\n",
    "# print(priv_key.decrypt(enc4))\n",
    "# enc5 = enc3 - enc2\n",
    "# print(priv_key.decrypt(enc5))\n",
    "# enc6 = -5 + enc5\n",
    "# print(priv_key.decrypt(enc6))\n",
    "\n",
    "# enc_avg = (enc1 + enc2 + enc3)/3\n",
    "# print(priv_key.decrypt(enc_avg))\n",
    "enc_avg = (enc1 + enc2 + enc3)/3\n",
    "print(enc_avg)"
   ]
  },
  {
   "cell_type": "code",
   "execution_count": 48,
   "metadata": {},
   "outputs": [
    {
     "name": "stdout",
     "output_type": "stream",
     "text": [
      "12.100000000000001\n",
      "1.2100000000000002\n",
      "-2.4200000000000004\n",
      "-0.6050000000000001\n",
      "CPU times: user 110 ms, sys: 36 µs, total: 110 ms\n",
      "Wall time: 109 ms\n"
     ]
    }
   ],
   "source": [
    "%%time\n",
    "enc1 = enc1 * 2.2\n",
    "print(priv_key.decrypt(enc1))\n",
    "enc1 = enc1 / 10\n",
    "print(priv_key.decrypt(enc1))\n",
    "enc7 = enc1 * -2\n",
    "print(priv_key.decrypt(enc7))\n",
    "enc8 = enc1 / -2\n",
    "print(priv_key.decrypt(enc8))"
   ]
  },
  {
   "cell_type": "code",
   "execution_count": 58,
   "metadata": {},
   "outputs": [
    {
     "name": "stdout",
     "output_type": "stream",
     "text": [
      "1.2100000000000002\n",
      "CPU times: user 26.7 ms, sys: 13 µs, total: 26.7 ms\n",
      "Wall time: 25.8 ms\n"
     ]
    }
   ],
   "source": [
    "%%time\n",
    "print(priv_key.decrypt(enc1))\n",
    "enc_with_pub_key = {}\n",
    "enc_with_pub_key['public_key'] = { 'g':pub_key.g, 'n':pub_key.n}\n",
    "enc_with_pub_key['enc_value'] = (str(enc1.ciphertext()),enc1.exponent)\n",
    "serialised = json.dumps(enc_with_pub_key)  \n",
    "## Serialisation of encrypted numbers to pass it over network/store on disk"
   ]
  },
  {
   "cell_type": "code",
   "execution_count": 50,
   "metadata": {},
   "outputs": [
    {
     "name": "stdout",
     "output_type": "stream",
     "text": [
      "CPU times: user 35.2 ms, sys: 0 ns, total: 35.2 ms\n",
      "Wall time: 34.8 ms\n"
     ]
    },
    {
     "data": {
      "text/plain": [
       "1.2100000000000002"
      ]
     },
     "execution_count": 50,
     "metadata": {},
     "output_type": "execute_result"
    }
   ],
   "source": [
    "%%time\n",
    "received_dict = json.loads(serialised)\n",
    "pk = received_dict['public_key']\n",
    "public_key_rec = paillier.PaillierPublicKey(n=int(pk['n']))\n",
    "enc_nums_rec = paillier.EncryptedNumber(public_key_rec, int(received_dict['enc_value'][0]), int(received_dict['enc_value'][1]))\n",
    "priv_key.decrypt(enc_nums_rec)"
   ]
  }
 ],
 "metadata": {
  "kernelspec": {
   "display_name": "Python 3",
   "language": "python",
   "name": "python3"
  },
  "language_info": {
   "codemirror_mode": {
    "name": "ipython",
    "version": 3
   },
   "file_extension": ".py",
   "mimetype": "text/x-python",
   "name": "python",
   "nbconvert_exporter": "python",
   "pygments_lexer": "ipython3",
   "version": "3.6.8"
  }
 },
 "nbformat": 4,
 "nbformat_minor": 2
}
