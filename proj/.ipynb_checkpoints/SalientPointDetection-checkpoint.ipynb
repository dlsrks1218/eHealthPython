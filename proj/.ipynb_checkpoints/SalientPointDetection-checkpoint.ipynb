{
 "cells": [
  {
   "cell_type": "code",
   "execution_count": 38,
   "metadata": {},
   "outputs": [],
   "source": [
    "import numpy as np\n",
    "import matplotlib.pyplot as plt\n",
    "import sympy as sp"
   ]
  },
  {
   "cell_type": "code",
   "execution_count": 39,
   "metadata": {},
   "outputs": [
    {
     "data": {
      "text/plain": [
       "array([   0.,    0.,    0.,    0.,    0.,    0.,    0.,    0.,    0.,\n",
       "          0.,    0.,    0.,    0.,    0.,    0.,    0.,    0.,    0.,\n",
       "          0.,    0.,    0.,    0.,    0.,    0.,    0.,    0.,    0.,\n",
       "          0.,  358.,  442.,  856., 1511., 1834., 1874., 1874., 1874.,\n",
       "       1874., 1874., 2148., 2381., 3220., 3277., 3349., 3769., 3769.,\n",
       "       3769., 3769., 3769., 3769., 3769., 3769., 3769., 3769., 3769.,\n",
       "       3769., 3769., 3769., 3769., 3769., 3769., 3769., 3769., 3769.,\n",
       "       3769., 3769., 3769.])"
      ]
     },
     "execution_count": 39,
     "metadata": {},
     "output_type": "execute_result"
    }
   ],
   "source": [
    "time = np.array([0, 0, 0, 0, 0, 0, 0, 0, 0, 0, 0, 0, 0, 0, 0, 0, 0, 0, 0, 0, 0, 0, 0, 0, 0, 0, 0, 0, 358, 442, 856, 1511, 1834, 1874, 1874, 1874, 1874, 1874, 2148, 2381, 3220, 3277, 3349, 3769, 3769, 3769, 3769, 3769, 3769, 3769, 3769, 3769, 3769, 3769, 3769, 3769, 3769, 3769, 3769, 3769, 3769, 3769, 3769, 3769, 3769, 3769], dtype=np.float64)\n",
    "# time = np.array([0, 0, 0, 0, 0, 0, 0, 0, 0, 0, 0, 0, 0, 0, 0, 344, 619, 730, 730, 730, 746, 1004, 1004, 1004, 1181, 1181, 1181, 1181, 1181, 1533, 1687, 1770, 2289, 2333, 2333, 2423, 2423, 2423, 2423, 2423, 2539, 2539, 2703, 2703, 2703, 2703, 2703, 2761, 2761, 2800, 3156, 3156, 3156, 3156, 3591, 3667, 3667, 3667, 3667, 3667, 3667, 3667, 4034, 4107, 4122, 4416], dtype=np.float64)\n",
    "time"
   ]
  },
  {
   "cell_type": "code",
   "execution_count": 40,
   "metadata": {},
   "outputs": [
    {
     "data": {
      "text/plain": [
       "array([ 0,  1,  2,  3,  4,  5,  6,  7,  8,  9, 10, 11, 12, 13, 14, 15, 16,\n",
       "       17, 18, 19, 20, 21, 22, 23, 24, 25, 26, 27, 28, 29, 30, 31, 32, 33,\n",
       "       34, 35, 36, 37, 38, 39, 40, 41, 42, 43, 44, 45, 46, 47, 48, 49, 50,\n",
       "       51, 52, 53, 54, 55, 56, 57, 58, 59, 60, 61, 62, 63, 64, 65])"
      ]
     },
     "execution_count": 40,
     "metadata": {},
     "output_type": "execute_result"
    }
   ],
   "source": [
    "np.arange(len(time))"
   ]
  },
  {
   "cell_type": "code",
   "execution_count": 41,
   "metadata": {},
   "outputs": [
    {
     "data": {
      "image/png": "[encoded data removed]",
      "text/plain": [
       "<Figure size 432x288 with 1 Axes>"
      ]
     },
     "metadata": {
      "needs_background": "light"
     },
     "output_type": "display_data"
    }
   ],
   "source": [
    "plt.figure(1)\n",
    "# plt.ylim(-50, 50)\n",
    "plt.plot(np.arange(len(time)), time)\n",
    "\n",
    "plt.show()"
   ]
  },
  {
   "cell_type": "code",
   "execution_count": 42,
   "metadata": {},
   "outputs": [
    {
     "data": {
      "text/plain": [
       "66"
      ]
     },
     "execution_count": 42,
     "metadata": {},
     "output_type": "execute_result"
    }
   ],
   "source": [
    "len(time)"
   ]
  },
  {
   "cell_type": "code",
   "execution_count": 43,
   "metadata": {},
   "outputs": [
    {
     "name": "stdout",
     "output_type": "stream",
     "text": [
      "[  0.    0.    0.    0.    0.    0.    0.    0.    0.    0.    0.    0.\n",
      "   0.    0.    0.    0.    0.    0.    0.    0.    0.    0.    0.    0.\n",
      "   0.    0.    0.  179.  221.  249.  534.5 489.  181.5  20.    0.    0.\n",
      "   0.  137.  253.5 536.  448.   64.5 246.  210.    0.    0.    0.    0.\n",
      "   0.    0.    0.    0.    0.    0.    0.    0.    0.    0.    0.    0.\n",
      "   0.    0.    0.    0.    0.    0. ]\n",
      "179.0 221.0 249.0\n",
      "221.0 249.0 534.5\n",
      "249.0 534.5 489.0\n",
      "534.5 489.0 181.5\n",
      "489.0 181.5 20.0\n",
      "137.0 253.5 536.0\n",
      "253.5 536.0 448.0\n",
      "536.0 448.0 64.5\n",
      "448.0 64.5 246.0\n",
      "64.5 246.0 210.0\n"
     ]
    },
    {
     "data": {
      "text/plain": [
       "array([  0.,   0.,   0.,   0.,   0.,   0.,   0.,   0.,   0.,   0.,   0.,\n",
       "         0.,   0.,   0.,   0.,   0.,   0.,   0.,   0.,   0.,   0.,   0.,\n",
       "         0.,   0.,   0.,   0.,   0., 179.,  20.,   0.,   0.,   0., 137.,\n",
       "       210.,   0.,   0.,   0.,   0.,   0.,   0.,   0.,   0.,   0.,   0.,\n",
       "         0.,   0.,   0.,   0.,   0.,   0.,   0.,   0.,   0.,   0.,   0.])"
      ]
     },
     "execution_count": 43,
     "metadata": {},
     "output_type": "execute_result"
    }
   ],
   "source": [
    "dx_list = np.gradient(time)\n",
    "print(dx_list)\n",
    "tmp = []\n",
    "for i in range(len(dx_list)-1):\n",
    "    if i==0:\n",
    "        tmp.append(dx_list[i])\n",
    "    elif (dx_list[i-1]>0 and dx_list[i]>0 and dx_list[i+1]>0) or (dx_list[i-1]<0 and dx_list[i]<0 and dx_list[i+1]<0):\n",
    "        print(dx_list[i-1], dx_list[i], dx_list[i+1])\n",
    "    else:\n",
    "        tmp.append(dx_list[i])\n",
    "# print(len(tmp))\n",
    "np.array(tmp)"
   ]
  },
  {
   "cell_type": "code",
   "execution_count": 44,
   "metadata": {},
   "outputs": [
    {
     "data": {
      "text/plain": [
       "array([0, 0, 0, 0, 0, 0, 0, 0, 0, 0, 0, 0, 0, 0, 0, 0, 0, 0, 0, 0, 0, 0,\n",
       "       0, 0, 0, 0, 0, 1, 1, 1, 1, 1, 1, 0, 0, 0, 0, 1, 1, 1, 1, 1, 1, 0,\n",
       "       0, 0, 0, 0, 0, 0, 0, 0, 0, 0, 0, 0, 0, 0, 0, 0, 0, 0, 0, 0, 0])"
      ]
     },
     "execution_count": 44,
     "metadata": {},
     "output_type": "execute_result"
    }
   ],
   "source": [
    "li1 = np.diff(time)\n",
    "# li1\n",
    "diff_list = [1 if i>0 else(-1 if i<0  else 0) for i in li1]\n",
    "\n",
    "np.array(diff_list)"
   ]
  },
  {
   "cell_type": "code",
   "execution_count": 45,
   "metadata": {},
   "outputs": [
    {
     "data": {
      "text/plain": [
       "array([ 0, 27, 33, 37, 43, 65])"
      ]
     },
     "execution_count": 45,
     "metadata": {},
     "output_type": "execute_result"
    }
   ],
   "source": [
    "stack = []\n",
    "idx_list = []\n",
    "\n",
    "for i in range(len(diff_list)):\n",
    "    if i==0:\n",
    "        stack.append(diff_list[i])\n",
    "        idx_list.append(i)\n",
    "    if diff_list[i] not in stack:\n",
    "        stack.pop()\n",
    "        stack.append(diff_list[i])\n",
    "        idx_list.append(i)\n",
    "    if i == len(diff_list)-1:\n",
    "        idx_list.append(i+1)\n",
    "        \n",
    "\n",
    "idx_list1 = np.array(idx_list)\n",
    "idx_list1\n",
    "# print(len(idx_list1))"
   ]
  },
  {
   "cell_type": "code",
   "execution_count": 46,
   "metadata": {},
   "outputs": [
    {
     "data": {
      "text/plain": [
       "array([   0.,   nan,   nan,   nan,   nan,   nan,   nan,   nan,   nan,\n",
       "         nan,   nan,   nan,   nan,   nan,   nan,   nan,   nan,   nan,\n",
       "         nan,   nan,   nan,   nan,   nan,   nan,   nan,   nan,   nan,\n",
       "          0.,   nan,   nan,   nan,   nan,   nan, 1874.,   nan,   nan,\n",
       "         nan, 1874.,   nan,   nan,   nan,   nan,   nan, 3769.,   nan,\n",
       "         nan,   nan,   nan,   nan,   nan,   nan,   nan,   nan,   nan,\n",
       "         nan,   nan,   nan,   nan,   nan,   nan,   nan,   nan,   nan,\n",
       "         nan,   nan, 3769.])"
      ]
     },
     "execution_count": 46,
     "metadata": {},
     "output_type": "execute_result"
    }
   ],
   "source": [
    "time1 = time.copy()\n",
    "# time1\n",
    "\n",
    "for i in range(len(time1)):\n",
    "    if i not in idx_list1:\n",
    "        time1[i] = np.nan\n",
    "time1  "
   ]
  },
  {
   "cell_type": "code",
   "execution_count": 47,
   "metadata": {
    "scrolled": true
   },
   "outputs": [
    {
     "data": {
      "image/png": "[encoded data removed]",
      "text/plain": [
       "<Figure size 432x288 with 1 Axes>"
      ]
     },
     "metadata": {
      "needs_background": "light"
     },
     "output_type": "display_data"
    },
    {
     "name": "stdout",
     "output_type": "stream",
     "text": [
      "salient point 갯수 : 6\n",
      "원본 데이터 갯수 : 66\n"
     ]
    }
   ],
   "source": [
    "plt.figure(2)\n",
    "# plt.ylim(-50, 50)\n",
    "plt.plot(np.arange(len(time)), time)\n",
    "plt.scatter(np.arange(len(time1)), time1)\n",
    "plt.show()\n",
    "\n",
    "# print(len(time), len(time1))\n",
    "print('salient point 갯수 :', len(idx_list1))\n",
    "print('원본 데이터 갯수 :', len(time))"
   ]
  },
  {
   "cell_type": "code",
   "execution_count": 48,
   "metadata": {},
   "outputs": [
    {
     "name": "stdout",
     "output_type": "stream",
     "text": [
      "salient point 갯수 : 23\n",
      "원본 데이터 갯수 : 66\n",
      "salient point -> [   0.   nan   nan   nan   nan   nan   nan   nan   nan   nan   nan   nan\n",
      "   nan   nan    0.   nan   nan  730.   nan  730.   nan 1004.   nan 1004.\n",
      " 1181.   nan   nan   nan 1181.   nan   nan   nan   nan 2333. 2333. 2423.\n",
      "   nan   nan   nan 2423. 2539. 2539. 2703.   nan   nan   nan 2703. 2761.\n",
      " 2761.   nan 3156.   nan   nan 3156.   nan 3667.   nan   nan   nan   nan\n",
      "   nan 3667.   nan   nan   nan 4416.]\n"
     ]
    }
   ],
   "source": [
    "import numpy as np\n",
    "import matplotlib.pyplot as plt\n",
    "\n",
    "arr = np.array([0, 0, 0, 0, 0, 0, 0, 0, 0, 0, 0, 0, 0, 0, 0, 344, 619, 730, 730, 730, 746, 1004, 1004, 1004, 1181, 1181, 1181, 1181, 1181, 1533, 1687, 1770, 2289, 2333, 2333, 2423, 2423, 2423, 2423, 2423, 2539, 2539, 2703, 2703, 2703, 2703, 2703, 2761, 2761, 2800, 3156, 3156, 3156, 3156, 3591, 3667, 3667, 3667, 3667, 3667, 3667, 3667, 4034, 4107, 4122, 4416], dtype=np.float64)\n",
    "\n",
    "def sp_generate(arr):\n",
    "    diff = np.diff(arr)\n",
    "    diff_list = [1 if i>0 else(-1 if i<0  else 0) for i in diff]\n",
    "    \n",
    "    stack = []\n",
    "    idx_list = []\n",
    "    res_list = []\n",
    "\n",
    "    for i in range(len(diff_list)):\n",
    "        if i==0:\n",
    "            stack.append(diff_list[i])\n",
    "            idx_list.append(i)\n",
    "        if diff_list[i] not in stack:\n",
    "            stack.pop()\n",
    "            stack.append(diff_list[i])\n",
    "            idx_list.append(i)\n",
    "        if i == len(diff_list)-1:\n",
    "            idx_list.append(i+1)\n",
    "\n",
    "\n",
    "    idx_list = np.array(idx_list)\n",
    "#     print(idx_list)\n",
    "    for i in idx_list:\n",
    "        res_list.append(arr[i])\n",
    "#     print(res_list)\n",
    "    arr_copy = arr.copy()\n",
    "    # time1\n",
    "\n",
    "    for i in range(len(arr_copy)):\n",
    "        if i not in idx_list:\n",
    "            arr_copy[i] = np.nan\n",
    "#     plt.figure(3)\n",
    "#     plt.plot(np.arange(len(arr)), arr)\n",
    "#     plt.scatter(np.arange(len(arr_copy)), arr_copy)\n",
    "#     plt.show()\n",
    "\n",
    "    # print(len(time), len(time1))\n",
    "    print('salient point 갯수 :', len(idx_list))\n",
    "    print('원본 데이터 갯수 :', len(time))\n",
    "    print('salient point ->', arr_copy)\n",
    "    \n",
    "sp_generate(arr)"
   ]
  }
 ],
 "metadata": {
  "kernelspec": {
   "display_name": "Python 3",
   "language": "python",
   "name": "python3"
  },
  "language_info": {
   "codemirror_mode": {
    "name": "ipython",
    "version": 3
   },
   "file_extension": ".py",
   "mimetype": "text/x-python",
   "name": "python",
   "nbconvert_exporter": "python",
   "pygments_lexer": "ipython3",
   "version": "3.7.3"
  }
 },
 "nbformat": 4,
 "nbformat_minor": 2
}
