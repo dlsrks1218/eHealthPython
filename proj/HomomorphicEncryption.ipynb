{
 "cells": [
  {
   "cell_type": "code",
   "execution_count": 94,
   "metadata": {},
   "outputs": [
    {
     "name": "stdout",
     "output_type": "stream",
     "text": [
      "323 16.0 40\n"
     ]
    }
   ],
   "source": [
    "from random import randint\n",
    "\n",
    "def gcd(a,b):\n",
    "    while b>0:\n",
    "        a, b = b, a % b\n",
    "        return a\n",
    "    \n",
    "def lcm(a,b):\n",
    "    return a * b / gcd(a, b)\n",
    "\n",
    "p, q, m = 17, 19, 10\n",
    "\n",
    "n = p*q\n",
    "gLambda = lcm(p-1, q-1)\n",
    "g = randint(1, 100)\n",
    "\n",
    "print(n, gLambda, g)"
   ]
  },
  {
   "cell_type": "code",
   "execution_count": 96,
   "metadata": {},
   "outputs": [
    {
     "ename": "NameError",
     "evalue": "name 'inverse_of' is not defined",
     "output_type": "error",
     "traceback": [
      "\u001b[0;31m---------------------------------------------------------------------------\u001b[0m",
      "\u001b[0;31mNameError\u001b[0m                                 Traceback (most recent call last)",
      "\u001b[0;32m<ipython-input-96-fe078211b7b1>\u001b[0m in \u001b[0;36m<module>\u001b[0;34m\u001b[0m\n\u001b[1;32m      5\u001b[0m \u001b[0;34m\u001b[0m\u001b[0m\n\u001b[1;32m      6\u001b[0m \u001b[0ml\u001b[0m \u001b[0;34m=\u001b[0m \u001b[0;34m(\u001b[0m\u001b[0;34m(\u001b[0m\u001b[0mpow\u001b[0m\u001b[0;34m(\u001b[0m\u001b[0mg\u001b[0m\u001b[0;34m,\u001b[0m \u001b[0mgLambda\u001b[0m\u001b[0;34m)\u001b[0m\u001b[0;34m%\u001b[0m\u001b[0mn\u001b[0m\u001b[0;34m*\u001b[0m\u001b[0mn\u001b[0m\u001b[0;34m)\u001b[0m\u001b[0;34m-\u001b[0m\u001b[0;36m1\u001b[0m\u001b[0;34m)\u001b[0m\u001b[0;34m//\u001b[0m\u001b[0mn\u001b[0m\u001b[0;34m\u001b[0m\u001b[0;34m\u001b[0m\u001b[0m\n\u001b[0;32m----> 7\u001b[0;31m \u001b[0mgMu\u001b[0m \u001b[0;34m=\u001b[0m \u001b[0minverse_of\u001b[0m\u001b[0;34m(\u001b[0m\u001b[0;36m1\u001b[0m\u001b[0;34m,\u001b[0m \u001b[0mn\u001b[0m\u001b[0;34m)\u001b[0m\u001b[0;34m\u001b[0m\u001b[0;34m\u001b[0m\u001b[0m\n\u001b[0m",
      "\u001b[0;31mNameError\u001b[0m: name 'inverse_of' is not defined"
     ]
    }
   ],
   "source": [
    "# Python program to demonstrate working of extended \n",
    "# Euclidean Algorithm \n",
    "  \n",
    "# function for extended Euclidean Algorithm \n",
    "def gcdExtended(a, b, x, y): \n",
    "    # Base Case \n",
    "    if a == 0 :  \n",
    "        x = 0\n",
    "        y = 1\n",
    "        return b \n",
    "          \n",
    "    x1 = 1\n",
    "    y1 = 1 # To store results of recursive call \n",
    "    gcd = gcdExtended(b%a, a, x1, y1) \n",
    "  \n",
    "    # Update x and y using results of recursive \n",
    "    # call \n",
    "    x = y1 - (b/a) * x1 \n",
    "    y = x1 \n",
    "  \n",
    "    return gcd \n",
    "  \n",
    "  \n",
    "x = 1\n",
    "y = 1\n",
    "a = 35\n",
    "b = 15\n",
    "g = gcdExtended(a, b, x, y) \n",
    "print(\"gcd(\", a , \",\" , b, \") = \", g) \n",
    "  \n",
    "# Code Contributed by Mohit Gupta_OMG <(0_o)>\n",
    "\n",
    "def inverse_of(n, p):\n",
    "    gcd, x, y = gcdExtended(, p)\n",
    "\n",
    "\n",
    "# public key(encryption) = (n, g)\n",
    "# private key(decryption) = (gLambda, gMu)\n",
    "\n",
    "# pow (a,b,c) = (a**b) % c\n",
    "\n",
    "l = ((pow(g, gLambda)%n*n)-1)//n\n",
    "gMu = inverse_of(1, n)"
   ]
  },
  {
   "cell_type": "code",
   "execution_count": 50,
   "metadata": {},
   "outputs": [
    {
     "ename": "NameError",
     "evalue": "name 'm' is not defined",
     "output_type": "error",
     "traceback": [
      "\u001b[0;31m---------------------------------------------------------------------------\u001b[0m",
      "\u001b[0;31mNameError\u001b[0m                                 Traceback (most recent call last)",
      "\u001b[0;32m<ipython-input-50-d0ab529b2f0e>\u001b[0m in \u001b[0;36m<module>\u001b[0;34m\u001b[0m\n\u001b[0;32m----> 1\u001b[0;31m \u001b[0mk1\u001b[0m \u001b[0;34m=\u001b[0m \u001b[0mpow\u001b[0m\u001b[0;34m(\u001b[0m\u001b[0mg\u001b[0m\u001b[0;34m,\u001b[0m \u001b[0mm\u001b[0m\u001b[0;34m,\u001b[0m \u001b[0mn\u001b[0m\u001b[0;34m*\u001b[0m\u001b[0mn\u001b[0m\u001b[0;34m)\u001b[0m\u001b[0;34m\u001b[0m\u001b[0;34m\u001b[0m\u001b[0m\n\u001b[0m\u001b[1;32m      2\u001b[0m \u001b[0mk2\u001b[0m \u001b[0;34m=\u001b[0m \u001b[0mpow\u001b[0m\u001b[0;34m(\u001b[0m\u001b[0mr\u001b[0m\u001b[0;34m,\u001b[0m \u001b[0mn\u001b[0m \u001b[0;34m,\u001b[0m \u001b[0mn\u001b[0m\u001b[0;34m*\u001b[0m\u001b[0mn\u001b[0m\u001b[0;34m)\u001b[0m\u001b[0;34m\u001b[0m\u001b[0;34m\u001b[0m\u001b[0m\n\u001b[1;32m      3\u001b[0m \u001b[0;34m\u001b[0m\u001b[0m\n\u001b[1;32m      4\u001b[0m \u001b[0mcipher\u001b[0m \u001b[0;34m=\u001b[0m \u001b[0;34m(\u001b[0m\u001b[0mk1\u001b[0m \u001b[0;34m*\u001b[0m \u001b[0mk2\u001b[0m\u001b[0;34m)\u001b[0m \u001b[0;34m%\u001b[0m \u001b[0;34m(\u001b[0m\u001b[0mn\u001b[0m \u001b[0;34m*\u001b[0m \u001b[0mn\u001b[0m\u001b[0;34m)\u001b[0m\u001b[0;34m\u001b[0m\u001b[0;34m\u001b[0m\u001b[0m\n",
      "\u001b[0;31mNameError\u001b[0m: name 'm' is not defined"
     ]
    }
   ],
   "source": [
    "k1 = pow(g, m, n*n)\n",
    "k2 = pow(r, n , n*n)\n",
    "\n",
    "cipher = (k1 * k2) % (n * n)"
   ]
  },
  {
   "cell_type": "code",
   "execution_count": null,
   "metadata": {},
   "outputs": [],
   "source": [
    "l = (pow(cipher, gLambda, n*n)-1)//n\n",
    "mess = (l * gMu) % n"
   ]
  }
 ],
 "metadata": {
  "kernelspec": {
   "display_name": "Python 3",
   "language": "python",
   "name": "python3"
  },
  "language_info": {
   "codemirror_mode": {
    "name": "ipython",
    "version": 3
   },
   "file_extension": ".py",
   "mimetype": "text/x-python",
   "name": "python",
   "nbconvert_exporter": "python",
   "pygments_lexer": "ipython3",
   "version": "3.6.8"
  }
 },
 "nbformat": 4,
 "nbformat_minor": 2
}
